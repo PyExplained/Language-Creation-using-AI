{
 "cells": [
  {
   "cell_type": "markdown",
   "metadata": {},
   "source": [
    "# Language Creation Model"
   ]
  },
  {
   "cell_type": "markdown",
   "metadata": {},
   "source": [
    "## Dataset Preperation"
   ]
  },
  {
   "cell_type": "code",
   "execution_count": 1,
   "metadata": {},
   "outputs": [],
   "source": [
    "import tensorflow as tf\n",
    "from tensorflow import keras\n",
    "from sklearn.model_selection import train_test_split\n",
    "import matplotlib.pyplot as plt\n",
    "import numpy as np"
   ]
  },
  {
   "cell_type": "code",
   "execution_count": 2,
   "metadata": {},
   "outputs": [],
   "source": [
    "filepath = \"eng_sentences.tsv\"\n",
    "with open(filepath, encoding=\"utf-8\") as f:\n",
    "    english_sentences = f.readlines()"
   ]
  },
  {
   "cell_type": "code",
   "execution_count": 3,
   "metadata": {},
   "outputs": [],
   "source": [
    "load_samples = 200000  # number of sentences loaded during preprocessing\n",
    "tokenizer_samples = 10000  # number of sentences to fit the tokenizer on\n",
    "num_sentences = 40000  # number of sentences used during training\n",
    "max_sentence_len = 12  # words\n",
    "\n",
    "english_sentences = [sentence[sentence.index(\"\\t\")+5:-1] for sentence in english_sentences if len(sentence[sentence.index(\"\\t\")+5:-1].split()) <= max_sentence_len][:load_samples]\n",
    "np.random.seed(42)\n",
    "np.random.shuffle(english_sentences)"
   ]
  },
  {
   "cell_type": "code",
   "execution_count": 4,
   "metadata": {},
   "outputs": [],
   "source": [
    "max_id = 1500  # vocabulary size\n",
    "tokenizer = keras.preprocessing.text.Tokenizer(num_words=max_id, oov_token='OOV')\n",
    "tokenizer.fit_on_texts(english_sentences[:tokenizer_samples])"
   ]
  },
  {
   "cell_type": "code",
   "execution_count": 5,
   "metadata": {},
   "outputs": [
    {
     "data": {
      "text/plain": [
       "[[168]]"
      ]
     },
     "execution_count": 5,
     "metadata": {},
     "output_type": "execute_result"
    }
   ],
   "source": [
    "tokenizer.texts_to_sequences([\"First\"])"
   ]
  },
  {
   "cell_type": "code",
   "execution_count": 6,
   "metadata": {
    "scrolled": true
   },
   "outputs": [
    {
     "data": {
      "text/plain": [
       "['first']"
      ]
     },
     "execution_count": 6,
     "metadata": {},
     "output_type": "execute_result"
    }
   ],
   "source": [
    "tokenizer.sequences_to_texts([[168]])"
   ]
  },
  {
   "cell_type": "code",
   "execution_count": 7,
   "metadata": {},
   "outputs": [],
   "source": [
    "tokenized = tokenizer.texts_to_sequences(english_sentences)\n",
    "indexes = [1 not in x and len(x) <= max_sentence_len for x in tokenized]  # No sentences with oov-words\n",
    "tokenized = np.array(tokenized, dtype=object)[indexes][:num_sentences]\n",
    "english_sentences = np.array(english_sentences, dtype=object)[indexes][:num_sentences]\n",
    "\n",
    "encoded = tf.keras.preprocessing.sequence.pad_sequences([x for x in tokenized if not 1 in x], padding=\"post\")"
   ]
  },
  {
   "cell_type": "code",
   "execution_count": 8,
   "metadata": {},
   "outputs": [],
   "source": [
    "batch_size = 32\n",
    "\n",
    "X_train, X_val, _, _ = train_test_split(encoded, encoded, test_size=0.1, random_state=42)\n",
    "X_train_dataset = tf.data.Dataset.from_tensor_slices(X_train)\n",
    "X_train_dataset = X_train_dataset.batch(batch_size)\n",
    "ae_training_dataset = X_train_dataset.map(lambda X_batch: (X_batch, tf.one_hot(X_batch, depth=max_id)))\n",
    "\n",
    "X_val_dataset = tf.data.Dataset.from_tensor_slices(X_val)\n",
    "X_val_dataset = X_val_dataset.batch(batch_size)\n",
    "ae_validation_dataset = X_val_dataset.map(lambda X_batch: (X_batch, tf.one_hot(X_batch, depth=max_id)))"
   ]
  },
  {
   "cell_type": "markdown",
   "metadata": {},
   "source": [
    "## Creating the models"
   ]
  },
  {
   "cell_type": "code",
   "execution_count": 9,
   "metadata": {},
   "outputs": [],
   "source": [
    "encoder_decoder_model_file = r\"Trained Model1 (1xGRU)/encoder_decoder_model.hdf5\"\n",
    "eng2lang_model_file = r\"Trained Model1 (1xGRU)/eng2lang_model.hdf5\"\n",
    "lang2eng_model_file = r\"Trained Model1 (1xGRU)/lang2eng_model.hdf5\""
   ]
  },
  {
   "cell_type": "markdown",
   "metadata": {},
   "source": [
    "### Encoder / Decoder Model"
   ]
  },
  {
   "cell_type": "code",
   "execution_count": 10,
   "metadata": {},
   "outputs": [],
   "source": [
    "def generate_encoder_decoder_model(regularization=False, load_weights=None):\n",
    "    reg = None\n",
    "    if regularization:\n",
    "        reg = keras.regularizers.l1_l2(1e-3)\n",
    "    \n",
    "    model_inputs = keras.Input(shape=(max_sentence_len), name=\"inputs\")\n",
    "    model_embedding = keras.layers.Embedding(max_id, 16, name=\"embed\")(model_inputs)\n",
    "\n",
    "    model_gru = keras.layers.Bidirectional(keras.layers.GRU(256, return_sequences=True, kernel_regularizer=reg), name=\"gru\")(model_embedding)\n",
    "    model_outputs = keras.layers.TimeDistributed(keras.layers.Dense(max_id, activation=\"softmax\", \n",
    "                                                                     kernel_regularizer=reg, name=\"outputs\"))(model_gru)\n",
    "    \n",
    "    model = keras.Model(inputs=model_inputs, outputs=model_outputs)\n",
    "    \n",
    "    if load_weights:\n",
    "        model.load_weights(load_weights)\n",
    "    \n",
    "    return model"
   ]
  },
  {
   "cell_type": "code",
   "execution_count": 11,
   "metadata": {},
   "outputs": [
    {
     "name": "stdout",
     "output_type": "stream",
     "text": [
      "Model: \"model\"\n",
      "_________________________________________________________________\n",
      "Layer (type)                 Output Shape              Param #   \n",
      "=================================================================\n",
      "inputs (InputLayer)          [(None, 12)]              0         \n",
      "_________________________________________________________________\n",
      "embed (Embedding)            (None, 12, 16)            24000     \n",
      "_________________________________________________________________\n",
      "gru (Bidirectional)          (None, 12, 512)           420864    \n",
      "_________________________________________________________________\n",
      "time_distributed (TimeDistri (None, 12, 1500)          769500    \n",
      "=================================================================\n",
      "Total params: 1,214,364\n",
      "Trainable params: 1,214,364\n",
      "Non-trainable params: 0\n",
      "_________________________________________________________________\n"
     ]
    }
   ],
   "source": [
    "encoder_decoder_model = generate_encoder_decoder_model(regularization=False)\n",
    "encoder_decoder_model.summary()"
   ]
  },
  {
   "cell_type": "code",
   "execution_count": 12,
   "metadata": {},
   "outputs": [
    {
     "name": "stdout",
     "output_type": "stream",
     "text": [
      "Epoch 1/3\n",
      "1125/1125 [==============================] - 52s 44ms/step - loss: 1.8952 - accuracy: 0.7034 - val_loss: 0.2877 - val_accuracy: 0.9573\n",
      "Epoch 2/3\n",
      "1125/1125 [==============================] - 48s 43ms/step - loss: 0.0881 - accuracy: 0.9887 - val_loss: 0.0210 - val_accuracy: 0.9980\n",
      "Epoch 3/3\n",
      "1125/1125 [==============================] - 48s 43ms/step - loss: 0.0074 - accuracy: 0.9996 - val_loss: 0.0060 - val_accuracy: 0.9994\n"
     ]
    }
   ],
   "source": [
    "encoder_decoder_model.compile(loss=\"categorical_crossentropy\", optimizer=\"adam\", metrics=[\"accuracy\"])\n",
    "\n",
    "encoder_decoder_model_checkpoint_callback = tf.keras.callbacks.ModelCheckpoint(\n",
    "    filepath=encoder_decoder_model_file,\n",
    "    monitor='accuracy',\n",
    "    mode='max',\n",
    "    save_freq=\"epoch\",\n",
    "    save_best_only=True,\n",
    "    save_weights_only=True)\n",
    "\n",
    "history = encoder_decoder_model.fit(ae_training_dataset, epochs=3, callbacks=[encoder_decoder_model_checkpoint_callback], \n",
    "                                    validation_data=ae_validation_dataset)"
   ]
  },
  {
   "cell_type": "markdown",
   "metadata": {},
   "source": [
    "### Eng2Lang Model"
   ]
  },
  {
   "cell_type": "markdown",
   "metadata": {},
   "source": [
    "#### Training with regularization"
   ]
  },
  {
   "cell_type": "code",
   "execution_count": 13,
   "metadata": {
    "scrolled": true
   },
   "outputs": [
    {
     "name": "stdout",
     "output_type": "stream",
     "text": [
      "Epoch 1/3\n",
      "1125/1125 [==============================] - 56s 48ms/step - loss: 40.7996 - accuracy: 0.7673 - val_loss: 7.7005 - val_accuracy: 0.6826\n",
      "Epoch 2/3\n",
      "1125/1125 [==============================] - 56s 50ms/step - loss: 4.5282 - accuracy: 0.6736 - val_loss: 3.3356 - val_accuracy: 0.6597\n",
      "Epoch 3/3\n",
      "1125/1125 [==============================] - 53s 47ms/step - loss: 3.1708 - accuracy: 0.6688 - val_loss: 3.0865 - val_accuracy: 0.6715\n"
     ]
    }
   ],
   "source": [
    "eng2lang_model = generate_encoder_decoder_model(regularization=True, load_weights=encoder_decoder_model_file)\n",
    "eng2lang_model.compile(loss=\"categorical_crossentropy\", optimizer=\"adam\", metrics=[\"accuracy\"])\n",
    "\n",
    "eng2lang_model_checkpoint_callback = tf.keras.callbacks.ModelCheckpoint(\n",
    "    filepath=eng2lang_model_file,\n",
    "    monitor='accuracy',\n",
    "    mode='max',\n",
    "    save_freq=\"epoch\",\n",
    "    save_best_only=True,\n",
    "    save_weights_only=True)\n",
    "history = eng2lang_model.fit(ae_training_dataset, epochs=3, callbacks=[eng2lang_model_checkpoint_callback], \n",
    "                             validation_data=ae_validation_dataset)"
   ]
  },
  {
   "cell_type": "markdown",
   "metadata": {},
   "source": [
    "#### Rehabilitation phase"
   ]
  },
  {
   "cell_type": "code",
   "execution_count": 14,
   "metadata": {},
   "outputs": [
    {
     "name": "stdout",
     "output_type": "stream",
     "text": [
      "15/15 [==============================] - 5s 190ms/step - loss: 2.1505 - accuracy: 0.7010 - val_loss: 2.0526 - val_accuracy: 0.7097\n"
     ]
    }
   ],
   "source": [
    "eng2lang_model = generate_encoder_decoder_model(regularization=False, load_weights=eng2lang_model_file)\n",
    "eng2lang_model.compile(loss=\"categorical_crossentropy\", optimizer=\"adam\", metrics=[\"accuracy\"])\n",
    "\n",
    "eng2lang_model_checkpoint_callback = tf.keras.callbacks.ModelCheckpoint(\n",
    "    filepath=eng2lang_model_file,\n",
    "    monitor='accuracy',\n",
    "    mode='max',\n",
    "    save_freq=\"epoch\",\n",
    "    save_best_only=True,\n",
    "    save_weights_only=True)\n",
    "history = eng2lang_model.fit(ae_training_dataset.take(15), epochs=1, callbacks=[eng2lang_model_checkpoint_callback], \n",
    "                             validation_data=ae_validation_dataset)"
   ]
  },
  {
   "cell_type": "markdown",
   "metadata": {},
   "source": [
    "### Lang2Eng Model"
   ]
  },
  {
   "cell_type": "code",
   "execution_count": 15,
   "metadata": {},
   "outputs": [],
   "source": [
    "ae_training_dataset2 = X_train_dataset.map(lambda X_batch: (tf.argmax(eng2lang_model(X_batch), axis=-1), tf.one_hot(X_batch, depth=max_id)))\n",
    "ae_validation_dataset2 = X_val_dataset.map(lambda X_batch: (tf.argmax(eng2lang_model(X_batch), axis=-1), tf.one_hot(X_batch, depth=max_id)))"
   ]
  },
  {
   "cell_type": "code",
   "execution_count": 16,
   "metadata": {},
   "outputs": [
    {
     "name": "stdout",
     "output_type": "stream",
     "text": [
      "Epoch 1/25\n",
      "1125/1125 [==============================] - 75s 65ms/step - loss: 1.3089 - accuracy: 0.7462 - val_loss: 1.1292 - val_accuracy: 0.7621\n",
      "Epoch 2/25\n",
      "1125/1125 [==============================] - 75s 67ms/step - loss: 1.0269 - accuracy: 0.7748 - val_loss: 1.0484 - val_accuracy: 0.7758\n",
      "Epoch 3/25\n",
      "1125/1125 [==============================] - 74s 65ms/step - loss: 0.9119 - accuracy: 0.7926 - val_loss: 1.0149 - val_accuracy: 0.7815\n",
      "Epoch 4/25\n",
      "1125/1125 [==============================] - 73s 65ms/step - loss: 0.8192 - accuracy: 0.8085 - val_loss: 1.0028 - val_accuracy: 0.7841\n",
      "Epoch 5/25\n",
      "1125/1125 [==============================] - 76s 68ms/step - loss: 0.7374 - accuracy: 0.8235 - val_loss: 1.0022 - val_accuracy: 0.7852\n",
      "Epoch 6/25\n",
      "1125/1125 [==============================] - 75s 67ms/step - loss: 0.6627 - accuracy: 0.8382 - val_loss: 1.0096 - val_accuracy: 0.7867\n",
      "Epoch 7/25\n",
      "1125/1125 [==============================] - 73s 65ms/step - loss: 0.5940 - accuracy: 0.8531 - val_loss: 1.0242 - val_accuracy: 0.7868\n",
      "Epoch 8/25\n",
      "1125/1125 [==============================] - 74s 65ms/step - loss: 0.5308 - accuracy: 0.8680 - val_loss: 1.0448 - val_accuracy: 0.7856\n",
      "Epoch 9/25\n",
      "1125/1125 [==============================] - 75s 66ms/step - loss: 0.4730 - accuracy: 0.8824 - val_loss: 1.0687 - val_accuracy: 0.7842\n",
      "Epoch 10/25\n",
      "1125/1125 [==============================] - 73s 65ms/step - loss: 0.4206 - accuracy: 0.8963 - val_loss: 1.0965 - val_accuracy: 0.7835\n",
      "Epoch 11/25\n",
      "1125/1125 [==============================] - 74s 66ms/step - loss: 0.3736 - accuracy: 0.9094 - val_loss: 1.1271 - val_accuracy: 0.7826\n",
      "Epoch 12/25\n",
      "1125/1125 [==============================] - 74s 66ms/step - loss: 0.3316 - accuracy: 0.9208 - val_loss: 1.1578 - val_accuracy: 0.7818\n",
      "Epoch 13/25\n",
      "1125/1125 [==============================] - 74s 65ms/step - loss: 0.2950 - accuracy: 0.9314 - val_loss: 1.1873 - val_accuracy: 0.7818\n",
      "Epoch 14/25\n",
      "1125/1125 [==============================] - 73s 65ms/step - loss: 0.2643 - accuracy: 0.9394 - val_loss: 1.2182 - val_accuracy: 0.7811\n",
      "Epoch 15/25\n",
      "1125/1125 [==============================] - 75s 67ms/step - loss: 0.2391 - accuracy: 0.9460 - val_loss: 1.2492 - val_accuracy: 0.7802\n",
      "Epoch 16/25\n",
      "1125/1125 [==============================] - 73s 65ms/step - loss: 0.2189 - accuracy: 0.9506 - val_loss: 1.2773 - val_accuracy: 0.7794\n",
      "Epoch 17/25\n",
      "1125/1125 [==============================] - 73s 65ms/step - loss: 0.2017 - accuracy: 0.9547 - val_loss: 1.3114 - val_accuracy: 0.7774\n",
      "Epoch 18/25\n",
      "1125/1125 [==============================] - 73s 65ms/step - loss: 0.1866 - accuracy: 0.9577 - val_loss: 1.3380 - val_accuracy: 0.7761\n",
      "Epoch 19/25\n",
      "1125/1125 [==============================] - 74s 65ms/step - loss: 0.1728 - accuracy: 0.9609 - val_loss: 1.3684 - val_accuracy: 0.7753\n",
      "Epoch 20/25\n",
      "1125/1125 [==============================] - 73s 65ms/step - loss: 0.1613 - accuracy: 0.9633 - val_loss: 1.3903 - val_accuracy: 0.7756\n",
      "Epoch 21/25\n",
      "1125/1125 [==============================] - 73s 65ms/step - loss: 0.1511 - accuracy: 0.9657 - val_loss: 1.4175 - val_accuracy: 0.7754\n",
      "Epoch 22/25\n",
      "1125/1125 [==============================] - 73s 65ms/step - loss: 0.1431 - accuracy: 0.9670 - val_loss: 1.4382 - val_accuracy: 0.7740\n",
      "Epoch 23/25\n",
      "1125/1125 [==============================] - 76s 68ms/step - loss: 0.1374 - accuracy: 0.9678 - val_loss: 1.4572 - val_accuracy: 0.7759\n",
      "Epoch 24/25\n",
      "1125/1125 [==============================] - 74s 66ms/step - loss: 0.1302 - accuracy: 0.9694 - val_loss: 1.4818 - val_accuracy: 0.7732\n",
      "Epoch 25/25\n",
      "1125/1125 [==============================] - 73s 65ms/step - loss: 0.1254 - accuracy: 0.9697 - val_loss: 1.5028 - val_accuracy: 0.7726\n"
     ]
    }
   ],
   "source": [
    "lang2eng_model = generate_encoder_decoder_model(regularization=False, load_weights=encoder_decoder_model_file)\n",
    "\n",
    "lang2eng_model.compile(loss=\"categorical_crossentropy\", optimizer=\"adam\", metrics=[\"accuracy\"])\n",
    "\n",
    "lang2eng_model_checkpoint_callback = tf.keras.callbacks.ModelCheckpoint(\n",
    "    filepath=lang2eng_model_file,\n",
    "    monitor='accuracy',\n",
    "    mode='max',\n",
    "    save_freq=\"epoch\",\n",
    "    save_best_only=True,\n",
    "    save_weights_only=True)\n",
    "history = lang2eng_model.fit(ae_training_dataset2, epochs=25, callbacks=[lang2eng_model_checkpoint_callback], \n",
    "                             validation_data=ae_validation_dataset2)"
   ]
  },
  {
   "cell_type": "code",
   "execution_count": 17,
   "metadata": {},
   "outputs": [
    {
     "data": {
      "image/png": "[encoded data removed]",
      "text/plain": [
       "<Figure size 432x288 with 1 Axes>"
      ]
     },
     "metadata": {
      "needs_background": "light"
     },
     "output_type": "display_data"
    }
   ],
   "source": [
    "# Example of plotting accuracy\n",
    "plt.plot(history.history['accuracy'])\n",
    "plt.plot(history.history['val_accuracy'])\n",
    "plt.title('model accuracy')\n",
    "plt.ylabel('accuracy')\n",
    "plt.xlabel('epoch')\n",
    "plt.legend(['train', 'val'], loc='upper left')\n",
    "plt.show()"
   ]
  },
  {
   "cell_type": "markdown",
   "metadata": {},
   "source": [
    "## Testing"
   ]
  },
  {
   "cell_type": "markdown",
   "metadata": {},
   "source": [
    "### Load models (optional)"
   ]
  },
  {
   "cell_type": "code",
   "execution_count": 11,
   "metadata": {},
   "outputs": [],
   "source": [
    "# This only needs to be run if you haven't already run the \"Creating the models\" section of this notebooks\n",
    "# (First run data prep. and generation-function, then this cell)\n",
    "\n",
    "# eng2lang_model = generate_encoder_decoder_model(regularization=False, load_weights=eng2lang_model_file)\n",
    "# lang2eng_model = generate_encoder_decoder_model(regularization=False, load_weights=lang2eng_model_file)"
   ]
  },
  {
   "cell_type": "markdown",
   "metadata": {},
   "source": [
    "### Test models"
   ]
  },
  {
   "cell_type": "code",
   "execution_count": 19,
   "metadata": {},
   "outputs": [],
   "source": [
    "def preprocess(texts):\n",
    "    tokenized = tokenizer.texts_to_sequences(texts)\n",
    "    X = np.array(keras.preprocessing.sequence.pad_sequences(tokenized, padding=\"post\", maxlen=max_sentence_len))\n",
    "    \n",
    "    return X"
   ]
  },
  {
   "cell_type": "code",
   "execution_count": 20,
   "metadata": {},
   "outputs": [],
   "source": [
    "def eng2lang_predict(sentence):\n",
    "    X_new = preprocess([sentence])\n",
    "    prediction = np.argmax(eng2lang_model.predict(X_new), axis=-1)\n",
    "    return tokenizer.sequences_to_texts([prediction[prediction != 0]])[0]"
   ]
  },
  {
   "cell_type": "code",
   "execution_count": 21,
   "metadata": {},
   "outputs": [],
   "source": [
    "def lang2eng_predict(sentence):\n",
    "    X_new = preprocess([sentence])\n",
    "    prediction = np.argmax(lang2eng_model.predict(X_new), axis=-1)\n",
    "    return tokenizer.sequences_to_texts([prediction[prediction != 0]])[0]"
   ]
  },
  {
   "cell_type": "code",
   "execution_count": 22,
   "metadata": {},
   "outputs": [],
   "source": [
    "def eng2eng_predict(sentence):\n",
    "    return lang2eng_predict(eng2lang_predict(sentence))"
   ]
  },
  {
   "cell_type": "code",
   "execution_count": 23,
   "metadata": {},
   "outputs": [
    {
     "name": "stdout",
     "output_type": "stream",
     "text": [
      "I thought that book was difficult to read.\n",
      "Keep your hands off my daughter!\n",
      "I would go at 10.\n",
      "I'm all ears.\n",
      "This winter is warm.\n",
      "Beautiful day, isn't it?\n",
      "It is necessary for you to start at once.\n",
      "I'll give you five dollars.\n",
      "When I call on you, I'll let you know in advance.\n",
      "She looked very beautiful in her new dress.\n"
     ]
    }
   ],
   "source": [
    "# Example sentences from the dataset\n",
    "for i in range(10):\n",
    "    print(np.random.choice(english_sentences))"
   ]
  },
  {
   "cell_type": "code",
   "execution_count": 24,
   "metadata": {},
   "outputs": [
    {
     "name": "stdout",
     "output_type": "stream",
     "text": [
      "Original sentence: \n",
      " I can't do such a thing like you did.\n",
      "1) Translated to language: \n",
      " i like do in a out like you did\n",
      "2) Translated from language: \n",
      " i wouldn't better such a thing about you did\n",
      "3) Translated to language and back: \n",
      " i can't do such a position yen you did\n",
      "\n",
      "Original sentence: \n",
      " The society made him president.\n",
      "1) Translated to language: \n",
      " the didn't know him there\n",
      "2) Translated from language: \n",
      " the dress made help immediately\n",
      "3) Translated to language and back: \n",
      " the society made him president\n",
      "\n",
      "Original sentence: \n",
      " You don't get up as early as your sister.\n",
      "1) Translated to language: \n",
      " you don't get up as in as your what\n",
      "2) Translated from language: \n",
      " you don't get up as early as your sister\n",
      "3) Translated to language and back: \n",
      " you don't get up as talk as your sister\n",
      "\n",
      "Original sentence: \n",
      " You have a way with women.\n",
      "1) Translated to language: \n",
      " you have a and with and\n",
      "2) Translated from language: \n",
      " you have a way with women\n",
      "3) Translated to language and back: \n",
      " you have a great with women\n",
      "\n",
      "Original sentence: \n",
      " I'm going shopping tomorrow.\n",
      "1) Translated to language: \n",
      " i'm was in\n",
      "2) Translated from language: \n",
      " i'm full myself nine\n",
      "3) Translated to language and back: \n",
      " i'm all from\n",
      "\n",
      "Original sentence: \n",
      " They went down to the country.\n",
      "1) Translated to language: \n",
      " they will him to the out\n",
      "2) Translated from language: \n",
      " let's went down to the other\n",
      "3) Translated to language and back: \n",
      " someone went talking to the country\n",
      "\n",
      "Original sentence: \n",
      " They look happy today.\n",
      "1) Translated to language: \n",
      " they know out him\n",
      "2) Translated from language: \n",
      " now look happy today\n",
      "3) Translated to language and back: \n",
      " they break happy down\n",
      "\n",
      "Original sentence: \n",
      " Have you heard the news yet?\n",
      "1) Translated to language: \n",
      " have you know the tomorrow\n",
      "2) Translated from language: \n",
      " have you heard the news yet\n",
      "3) Translated to language and back: \n",
      " have you heard the water\n",
      "\n",
      "Original sentence: \n",
      " I go to bed about ten.\n",
      "1) Translated to language: \n",
      " i go to out him out\n",
      "2) Translated from language: \n",
      " i go to bed about ten school\n",
      "3) Translated to language and back: \n",
      " i go to bed about ten\n",
      "\n",
      "Original sentence: \n",
      " Yes, as far as I know.\n",
      "1) Translated to language: \n",
      " we as know as i know\n",
      "2) Translated from language: \n",
      " yes as far as i know\n",
      "3) Translated to language and back: \n",
      " yes as far as i know\n",
      "\n"
     ]
    }
   ],
   "source": [
    "for i in range(10):\n",
    "    sentence = np.random.choice(english_sentences)\n",
    "    print(\"Original sentence: \\n\", sentence)\n",
    "    print(\"1) Translated to language: \\n\", eng2lang_predict(sentence))\n",
    "    print(\"2) Translated from language: \\n\", lang2eng_predict(sentence))\n",
    "    print(\"3) Translated to language and back: \\n\", eng2eng_predict(sentence))\n",
    "    print()"
   ]
  },
  {
   "cell_type": "code",
   "execution_count": 25,
   "metadata": {},
   "outputs": [
    {
     "name": "stdout",
     "output_type": "stream",
     "text": [
      "1) Translated to language: \n",
      " he will not be out to do the go\n",
      "2) Translated from language: \n",
      " he will not be able to do the work\n",
      "3) Translated to language and back: \n",
      " he will not be able to do the work\n"
     ]
    }
   ],
   "source": [
    "# Translate custom sentence\n",
    "sentence = \"He will not be able to do the work.\"\n",
    "\n",
    "print(\"1) Translated to language: \\n\", eng2lang_predict(sentence))\n",
    "print(\"2) Translated from language: \\n\", lang2eng_predict(sentence))\n",
    "print(\"3) Translated to language and back: \\n\", eng2eng_predict(sentence))"
   ]
  }
 ],
 "metadata": {
  "kernelspec": {
   "display_name": "envs",
   "language": "python",
   "name": "envs"
  },
  "language_info": {
   "codemirror_mode": {
    "name": "ipython",
    "version": 3
   },
   "file_extension": ".py",
   "mimetype": "text/x-python",
   "name": "python",
   "nbconvert_exporter": "python",
   "pygments_lexer": "ipython3",
   "version": "3.7.6"
  }
 },
 "nbformat": 4,
 "nbformat_minor": 4
}
