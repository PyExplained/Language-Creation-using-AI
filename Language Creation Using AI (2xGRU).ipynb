{
 "cells": [
  {
   "cell_type": "markdown",
   "metadata": {},
   "source": [
    "# Language Creation Model"
   ]
  },
  {
   "cell_type": "markdown",
   "metadata": {},
   "source": [
    "## Dataset Preperation"
   ]
  },
  {
   "cell_type": "code",
   "execution_count": 1,
   "metadata": {},
   "outputs": [],
   "source": [
    "import tensorflow as tf\n",
    "from tensorflow import keras\n",
    "from sklearn.model_selection import train_test_split\n",
    "import matplotlib.pyplot as plt\n",
    "import numpy as np"
   ]
  },
  {
   "cell_type": "code",
   "execution_count": 2,
   "metadata": {},
   "outputs": [],
   "source": [
    "filepath = \"eng_sentences.tsv\"\n",
    "with open(filepath, encoding=\"utf-8\") as f:\n",
    "    english_sentences = f.readlines()"
   ]
  },
  {
   "cell_type": "code",
   "execution_count": 3,
   "metadata": {},
   "outputs": [],
   "source": [
    "load_samples = 200000  # number of sentences loaded during preprocessing\n",
    "tokenizer_samples = 10000  # number of sentences to fit the tokenizer on\n",
    "num_sentences = 40000  # number of sentences used during training\n",
    "max_sentence_len = 12  # words\n",
    "\n",
    "english_sentences = [sentence[sentence.index(\"\\t\")+5:-1] for sentence in english_sentences if len(sentence[sentence.index(\"\\t\")+5:-1].split()) <= max_sentence_len][:load_samples]\n",
    "np.random.seed(42)\n",
    "np.random.shuffle(english_sentences)"
   ]
  },
  {
   "cell_type": "code",
   "execution_count": 4,
   "metadata": {},
   "outputs": [],
   "source": [
    "max_id = 1500  # vocabulary size\n",
    "tokenizer = keras.preprocessing.text.Tokenizer(num_words=max_id, oov_token='OOV')\n",
    "tokenizer.fit_on_texts(english_sentences[:tokenizer_samples])"
   ]
  },
  {
   "cell_type": "code",
   "execution_count": 5,
   "metadata": {},
   "outputs": [
    {
     "data": {
      "text/plain": [
       "[[168]]"
      ]
     },
     "execution_count": 5,
     "metadata": {},
     "output_type": "execute_result"
    }
   ],
   "source": [
    "tokenizer.texts_to_sequences([\"First\"])"
   ]
  },
  {
   "cell_type": "code",
   "execution_count": 6,
   "metadata": {
    "scrolled": true
   },
   "outputs": [
    {
     "data": {
      "text/plain": [
       "['first']"
      ]
     },
     "execution_count": 6,
     "metadata": {},
     "output_type": "execute_result"
    }
   ],
   "source": [
    "tokenizer.sequences_to_texts([[168]])"
   ]
  },
  {
   "cell_type": "code",
   "execution_count": 7,
   "metadata": {},
   "outputs": [],
   "source": [
    "tokenized = tokenizer.texts_to_sequences(english_sentences)\n",
    "indexes = [1 not in x and len(x) <= max_sentence_len for x in tokenized]  # No sentences with oov-words\n",
    "tokenized = np.array(tokenized, dtype=object)[indexes][:num_sentences]\n",
    "english_sentences = np.array(english_sentences, dtype=object)[indexes][:num_sentences]\n",
    "\n",
    "encoded = tf.keras.preprocessing.sequence.pad_sequences([x for x in tokenized if not 1 in x], padding=\"post\")"
   ]
  },
  {
   "cell_type": "code",
   "execution_count": 8,
   "metadata": {},
   "outputs": [],
   "source": [
    "batch_size = 32\n",
    "\n",
    "X_train, X_val, _, _ = train_test_split(encoded, encoded, test_size=0.1, random_state=42)\n",
    "X_train_dataset = tf.data.Dataset.from_tensor_slices(X_train)\n",
    "X_train_dataset = X_train_dataset.batch(batch_size)\n",
    "ae_training_dataset = X_train_dataset.map(lambda X_batch: (X_batch, tf.one_hot(X_batch, depth=max_id)))\n",
    "\n",
    "X_val_dataset = tf.data.Dataset.from_tensor_slices(X_val)\n",
    "X_val_dataset = X_val_dataset.batch(batch_size)\n",
    "ae_validation_dataset = X_val_dataset.map(lambda X_batch: (X_batch, tf.one_hot(X_batch, depth=max_id)))"
   ]
  },
  {
   "cell_type": "markdown",
   "metadata": {},
   "source": [
    "## Creating the models"
   ]
  },
  {
   "cell_type": "code",
   "execution_count": 9,
   "metadata": {},
   "outputs": [],
   "source": [
    "encoder_decoder_model_file = r\"Trained Model2 (2xGRU)/encoder_decoder_model.hdf5\"\n",
    "eng2lang_model_file = r\"Trained Model2 (2xGRU)/eng2lang_model.hdf5\"\n",
    "lang2eng_model_file = r\"Trained Model2 (2xGRU)/lang2eng_model.hdf5\""
   ]
  },
  {
   "cell_type": "markdown",
   "metadata": {},
   "source": [
    "### Encoder / Decoder Model"
   ]
  },
  {
   "cell_type": "code",
   "execution_count": 10,
   "metadata": {},
   "outputs": [],
   "source": [
    "def generate_encoder_decoder_model(regularization=False, load_weights=None):\n",
    "    reg = None\n",
    "    if regularization:\n",
    "        reg = keras.regularizers.l1_l2(1e-3)\n",
    "    \n",
    "    model_inputs = keras.Input(shape=(max_sentence_len), name=\"inputs\")\n",
    "    model_embedding = keras.layers.Embedding(max_id, 16, name=\"embed\")(model_inputs)\n",
    "\n",
    "    model_gru1 = keras.layers.Bidirectional(keras.layers.GRU(256, return_sequences=True, kernel_regularizer=reg), name=\"gru1\")(model_embedding)\n",
    "    model_gru2 = keras.layers.GRU(256, return_sequences=True, kernel_regularizer=reg, name=\"gru2\")(model_gru1)\n",
    "    model_outputs = keras.layers.TimeDistributed(keras.layers.Dense(max_id, activation=\"softmax\", \n",
    "                                                                     kernel_regularizer=reg, name=\"outputs\"))(model_gru2)\n",
    "    \n",
    "    model = keras.Model(inputs=model_inputs, outputs=model_outputs)\n",
    "    \n",
    "    if load_weights:\n",
    "        model.load_weights(load_weights)\n",
    "    \n",
    "    return model"
   ]
  },
  {
   "cell_type": "code",
   "execution_count": 11,
   "metadata": {},
   "outputs": [
    {
     "name": "stdout",
     "output_type": "stream",
     "text": [
      "Model: \"model\"\n",
      "_________________________________________________________________\n",
      "Layer (type)                 Output Shape              Param #   \n",
      "=================================================================\n",
      "inputs (InputLayer)          [(None, 12)]              0         \n",
      "_________________________________________________________________\n",
      "embed (Embedding)            (None, 12, 16)            24000     \n",
      "_________________________________________________________________\n",
      "gru1 (Bidirectional)         (None, 12, 512)           420864    \n",
      "_________________________________________________________________\n",
      "gru2 (GRU)                   (None, 12, 256)           591360    \n",
      "_________________________________________________________________\n",
      "time_distributed (TimeDistri (None, 12, 1500)          385500    \n",
      "=================================================================\n",
      "Total params: 1,421,724\n",
      "Trainable params: 1,421,724\n",
      "Non-trainable params: 0\n",
      "_________________________________________________________________\n"
     ]
    }
   ],
   "source": [
    "encoder_decoder_model = generate_encoder_decoder_model(regularization=False)\n",
    "encoder_decoder_model.summary()"
   ]
  },
  {
   "cell_type": "code",
   "execution_count": 12,
   "metadata": {},
   "outputs": [
    {
     "name": "stdout",
     "output_type": "stream",
     "text": [
      "Epoch 1/3\n",
      "1125/1125 [==============================] - 85s 72ms/step - loss: 2.1374 - accuracy: 0.6287 - val_loss: 0.8816 - val_accuracy: 0.8337\n",
      "Epoch 2/3\n",
      "1125/1125 [==============================] - 74s 66ms/step - loss: 0.4281 - accuracy: 0.9245 - val_loss: 0.1989 - val_accuracy: 0.9686\n",
      "Epoch 3/3\n",
      "1125/1125 [==============================] - 78s 70ms/step - loss: 0.1167 - accuracy: 0.9828 - val_loss: 0.0803 - val_accuracy: 0.9876\n"
     ]
    }
   ],
   "source": [
    "encoder_decoder_model.compile(loss=\"categorical_crossentropy\", optimizer=\"adam\", metrics=[\"accuracy\"])\n",
    "\n",
    "encoder_decoder_model_checkpoint_callback = tf.keras.callbacks.ModelCheckpoint(\n",
    "    filepath=encoder_decoder_model_file,\n",
    "    monitor='accuracy',\n",
    "    mode='max',\n",
    "    save_freq=\"epoch\",\n",
    "    save_best_only=True,\n",
    "    save_weights_only=True)\n",
    "\n",
    "history = encoder_decoder_model.fit(ae_training_dataset, epochs=3, callbacks=[encoder_decoder_model_checkpoint_callback], \n",
    "                                    validation_data=ae_validation_dataset)"
   ]
  },
  {
   "cell_type": "markdown",
   "metadata": {},
   "source": [
    "### Eng2Lang Model"
   ]
  },
  {
   "cell_type": "markdown",
   "metadata": {},
   "source": [
    "#### Training with regularization"
   ]
  },
  {
   "cell_type": "code",
   "execution_count": 13,
   "metadata": {
    "scrolled": true
   },
   "outputs": [
    {
     "name": "stdout",
     "output_type": "stream",
     "text": [
      "Epoch 1/2\n",
      "1125/1125 [==============================] - 87s 75ms/step - loss: 33.3571 - accuracy: 0.6943 - val_loss: 5.7981 - val_accuracy: 0.5995\n",
      "Epoch 2/2\n",
      "1125/1125 [==============================] - 81s 72ms/step - loss: 3.9503 - accuracy: 0.6084 - val_loss: 3.2206 - val_accuracy: 0.6219\n"
     ]
    }
   ],
   "source": [
    "eng2lang_model = generate_encoder_decoder_model(regularization=True, load_weights=encoder_decoder_model_file)\n",
    "eng2lang_model.compile(loss=\"categorical_crossentropy\", optimizer=\"adam\", metrics=[\"accuracy\"])\n",
    "\n",
    "eng2lang_model_checkpoint_callback = tf.keras.callbacks.ModelCheckpoint(\n",
    "    filepath=eng2lang_model_file,\n",
    "    monitor='accuracy',\n",
    "    mode='max',\n",
    "    save_freq=\"epoch\",\n",
    "    save_best_only=True,\n",
    "    save_weights_only=True)\n",
    "history = eng2lang_model.fit(ae_training_dataset, epochs=2, callbacks=[eng2lang_model_checkpoint_callback], \n",
    "                             validation_data=ae_validation_dataset)"
   ]
  },
  {
   "cell_type": "markdown",
   "metadata": {},
   "source": [
    "#### Rehabilitation phase"
   ]
  },
  {
   "cell_type": "code",
   "execution_count": 14,
   "metadata": {},
   "outputs": [
    {
     "name": "stdout",
     "output_type": "stream",
     "text": [
      "50/50 [==============================] - 10s 129ms/step - loss: 2.5328 - accuracy: 0.6102 - val_loss: 2.2843 - val_accuracy: 0.6401\n"
     ]
    }
   ],
   "source": [
    "eng2lang_model = generate_encoder_decoder_model(regularization=False, load_weights=eng2lang_model_file)\n",
    "eng2lang_model.compile(loss=\"categorical_crossentropy\", optimizer=\"adam\", metrics=[\"accuracy\"])\n",
    "\n",
    "eng2lang_model_checkpoint_callback = tf.keras.callbacks.ModelCheckpoint(\n",
    "    filepath=eng2lang_model_file,\n",
    "    monitor='accuracy',\n",
    "    mode='max',\n",
    "    save_freq=\"epoch\",\n",
    "    save_best_only=True,\n",
    "    save_weights_only=True)\n",
    "history = eng2lang_model.fit(ae_training_dataset.take(50), epochs=1, callbacks=[eng2lang_model_checkpoint_callback], \n",
    "                             validation_data=ae_validation_dataset)"
   ]
  },
  {
   "cell_type": "markdown",
   "metadata": {},
   "source": [
    "### Lang2Eng Model"
   ]
  },
  {
   "cell_type": "code",
   "execution_count": 15,
   "metadata": {},
   "outputs": [],
   "source": [
    "ae_training_dataset2 = X_train_dataset.map(lambda X_batch: (tf.argmax(eng2lang_model(X_batch), axis=-1), tf.one_hot(X_batch, depth=max_id)))\n",
    "ae_validation_dataset2 = X_val_dataset.map(lambda X_batch: (tf.argmax(eng2lang_model(X_batch), axis=-1), tf.one_hot(X_batch, depth=max_id)))"
   ]
  },
  {
   "cell_type": "code",
   "execution_count": 16,
   "metadata": {},
   "outputs": [
    {
     "name": "stdout",
     "output_type": "stream",
     "text": [
      "Epoch 1/25\n",
      "1125/1125 [==============================] - 117s 102ms/step - loss: 1.9192 - accuracy: 0.6605 - val_loss: 1.7254 - val_accuracy: 0.6711\n",
      "Epoch 2/25\n",
      "1125/1125 [==============================] - 110s 98ms/step - loss: 1.6385 - accuracy: 0.6790 - val_loss: 1.6378 - val_accuracy: 0.6812\n",
      "Epoch 3/25\n",
      "1125/1125 [==============================] - 109s 97ms/step - loss: 1.5373 - accuracy: 0.6897 - val_loss: 1.5897 - val_accuracy: 0.6870\n",
      "Epoch 4/25\n",
      "1125/1125 [==============================] - 108s 96ms/step - loss: 1.4645 - accuracy: 0.6983 - val_loss: 1.5603 - val_accuracy: 0.6920\n",
      "Epoch 5/25\n",
      "1125/1125 [==============================] - 107s 96ms/step - loss: 1.4035 - accuracy: 0.7061 - val_loss: 1.5412 - val_accuracy: 0.6958\n",
      "Epoch 6/25\n",
      "1125/1125 [==============================] - 108s 96ms/step - loss: 1.3500 - accuracy: 0.7131 - val_loss: 1.5327 - val_accuracy: 0.6964\n",
      "Epoch 7/25\n",
      "1125/1125 [==============================] - 107s 95ms/step - loss: 1.3010 - accuracy: 0.7198 - val_loss: 1.5291 - val_accuracy: 0.6976\n",
      "Epoch 8/25\n",
      "1125/1125 [==============================] - 107s 95ms/step - loss: 1.2548 - accuracy: 0.7272 - val_loss: 1.5284 - val_accuracy: 0.6990\n",
      "Epoch 9/25\n",
      "1125/1125 [==============================] - 107s 95ms/step - loss: 1.2116 - accuracy: 0.7340 - val_loss: 1.5314 - val_accuracy: 0.7000\n",
      "Epoch 10/25\n",
      "1125/1125 [==============================] - 104s 92ms/step - loss: 1.1703 - accuracy: 0.7403 - val_loss: 1.5372 - val_accuracy: 0.6994\n",
      "Epoch 11/25\n",
      "1125/1125 [==============================] - 104s 92ms/step - loss: 1.1304 - accuracy: 0.7473 - val_loss: 1.5437 - val_accuracy: 0.6995\n",
      "Epoch 12/25\n",
      "1125/1125 [==============================] - 104s 92ms/step - loss: 1.0926 - accuracy: 0.7537 - val_loss: 1.5551 - val_accuracy: 0.7003\n",
      "Epoch 13/25\n",
      "1125/1125 [==============================] - 103s 92ms/step - loss: 1.0549 - accuracy: 0.7605 - val_loss: 1.5666 - val_accuracy: 0.6994\n",
      "Epoch 14/25\n",
      "1125/1125 [==============================] - 104s 92ms/step - loss: 1.0207 - accuracy: 0.7669 - val_loss: 1.5775 - val_accuracy: 0.6984\n",
      "Epoch 15/25\n",
      "1125/1125 [==============================] - 104s 93ms/step - loss: 0.9875 - accuracy: 0.7732 - val_loss: 1.5900 - val_accuracy: 0.6980\n",
      "Epoch 16/25\n",
      "1125/1125 [==============================] - 106s 94ms/step - loss: 0.9534 - accuracy: 0.7794 - val_loss: 1.6069 - val_accuracy: 0.6969\n",
      "Epoch 17/25\n",
      "1125/1125 [==============================] - 112s 99ms/step - loss: 0.9226 - accuracy: 0.7859 - val_loss: 1.6205 - val_accuracy: 0.6963\n",
      "Epoch 18/25\n",
      "1125/1125 [==============================] - 107s 95ms/step - loss: 0.8928 - accuracy: 0.7916 - val_loss: 1.6393 - val_accuracy: 0.6961\n",
      "Epoch 19/25\n",
      "1125/1125 [==============================] - 113s 101ms/step - loss: 0.8645 - accuracy: 0.7973 - val_loss: 1.6561 - val_accuracy: 0.6959\n",
      "Epoch 20/25\n",
      "1125/1125 [==============================] - 118s 105ms/step - loss: 0.8365 - accuracy: 0.8030 - val_loss: 1.6764 - val_accuracy: 0.6960\n",
      "Epoch 21/25\n",
      "1125/1125 [==============================] - 111s 99ms/step - loss: 0.8122 - accuracy: 0.8079 - val_loss: 1.6951 - val_accuracy: 0.6954\n",
      "Epoch 22/25\n",
      "1125/1125 [==============================] - 106s 94ms/step - loss: 0.7884 - accuracy: 0.8125 - val_loss: 1.7161 - val_accuracy: 0.6945\n",
      "Epoch 23/25\n",
      "1125/1125 [==============================] - 105s 94ms/step - loss: 0.7655 - accuracy: 0.8174 - val_loss: 1.7347 - val_accuracy: 0.6941\n",
      "Epoch 24/25\n",
      "1125/1125 [==============================] - 107s 95ms/step - loss: 0.7453 - accuracy: 0.8215 - val_loss: 1.7565 - val_accuracy: 0.6934\n",
      "Epoch 25/25\n",
      "1125/1125 [==============================] - 106s 94ms/step - loss: 0.7223 - accuracy: 0.8263 - val_loss: 1.7720 - val_accuracy: 0.6933\n"
     ]
    }
   ],
   "source": [
    "lang2eng_model = generate_encoder_decoder_model(regularization=False, load_weights=encoder_decoder_model_file)\n",
    "\n",
    "lang2eng_model.compile(loss=\"categorical_crossentropy\", optimizer=\"adam\", metrics=[\"accuracy\"])\n",
    "\n",
    "lang2eng_model_checkpoint_callback = tf.keras.callbacks.ModelCheckpoint(\n",
    "    filepath=lang2eng_model_file,\n",
    "    monitor='accuracy',\n",
    "    mode='max',\n",
    "    save_freq=\"epoch\",\n",
    "    save_best_only=True,\n",
    "    save_weights_only=True)\n",
    "history = lang2eng_model.fit(ae_training_dataset2, epochs=25, callbacks=[lang2eng_model_checkpoint_callback], \n",
    "                             validation_data=ae_validation_dataset2)"
   ]
  },
  {
   "cell_type": "code",
   "execution_count": 17,
   "metadata": {},
   "outputs": [
    {
     "data": {
      "image/png": "[encoded data removed]",
      "text/plain": [
       "<Figure size 432x288 with 1 Axes>"
      ]
     },
     "metadata": {
      "needs_background": "light"
     },
     "output_type": "display_data"
    }
   ],
   "source": [
    "# Example of plotting accuracy\n",
    "plt.plot(history.history['accuracy'])\n",
    "plt.plot(history.history['val_accuracy'])\n",
    "plt.title('model accuracy')\n",
    "plt.ylabel('accuracy')\n",
    "plt.xlabel('epoch')\n",
    "plt.legend(['train', 'val'], loc='upper left')\n",
    "plt.show()"
   ]
  },
  {
   "cell_type": "markdown",
   "metadata": {},
   "source": [
    "## Testing"
   ]
  },
  {
   "cell_type": "markdown",
   "metadata": {},
   "source": [
    "### Load models (optional)"
   ]
  },
  {
   "cell_type": "code",
   "execution_count": 11,
   "metadata": {},
   "outputs": [],
   "source": [
    "# This only needs to be run if you haven't already run the \"Creating the models\" section of this notebooks\n",
    "# (First run data prep. and generation-function, then this cell)\n",
    "\n",
    "# eng2lang_model = generate_encoder_decoder_model(regularization=False, load_weights=eng2lang_model_file)\n",
    "# lang2eng_model = generate_encoder_decoder_model(regularization=False, load_weights=lang2eng_model_file)"
   ]
  },
  {
   "cell_type": "markdown",
   "metadata": {},
   "source": [
    "### Test models"
   ]
  },
  {
   "cell_type": "code",
   "execution_count": 19,
   "metadata": {},
   "outputs": [],
   "source": [
    "def preprocess(texts):\n",
    "    tokenized = tokenizer.texts_to_sequences(texts)\n",
    "    X = np.array(keras.preprocessing.sequence.pad_sequences(tokenized, padding=\"post\", maxlen=max_sentence_len))\n",
    "    \n",
    "    return X"
   ]
  },
  {
   "cell_type": "code",
   "execution_count": 20,
   "metadata": {},
   "outputs": [],
   "source": [
    "def eng2lang_predict(sentence):\n",
    "    X_new = preprocess([sentence])\n",
    "    prediction = np.argmax(eng2lang_model.predict(X_new), axis=-1)\n",
    "    return tokenizer.sequences_to_texts([prediction[prediction != 0]])[0]"
   ]
  },
  {
   "cell_type": "code",
   "execution_count": 21,
   "metadata": {},
   "outputs": [],
   "source": [
    "def lang2eng_predict(sentence):\n",
    "    X_new = preprocess([sentence])\n",
    "    prediction = np.argmax(lang2eng_model.predict(X_new), axis=-1)\n",
    "    return tokenizer.sequences_to_texts([prediction[prediction != 0]])[0]"
   ]
  },
  {
   "cell_type": "code",
   "execution_count": 22,
   "metadata": {},
   "outputs": [],
   "source": [
    "def eng2eng_predict(sentence):\n",
    "    return lang2eng_predict(eng2lang_predict(sentence))"
   ]
  },
  {
   "cell_type": "code",
   "execution_count": 23,
   "metadata": {},
   "outputs": [
    {
     "name": "stdout",
     "output_type": "stream",
     "text": [
      "I thought that book was difficult to read.\n",
      "Keep your hands off my daughter!\n",
      "I would go at 10.\n",
      "I'm all ears.\n",
      "This winter is warm.\n",
      "Beautiful day, isn't it?\n",
      "It is necessary for you to start at once.\n",
      "I'll give you five dollars.\n",
      "When I call on you, I'll let you know in advance.\n",
      "She looked very beautiful in her new dress.\n"
     ]
    }
   ],
   "source": [
    "# Example sentences from the dataset\n",
    "for i in range(10):\n",
    "    print(np.random.choice(english_sentences))"
   ]
  },
  {
   "cell_type": "code",
   "execution_count": 24,
   "metadata": {},
   "outputs": [
    {
     "name": "stdout",
     "output_type": "stream",
     "text": [
      "Original sentence: \n",
      " I can't do such a thing like you did.\n",
      "1) Translated to language: \n",
      " i will do not a time is you be\n",
      "2) Translated from language: \n",
      " i wish do such a thing did you did\n",
      "3) Translated to language and back: \n",
      " i will do not a thing like you like\n",
      "\n",
      "Original sentence: \n",
      " The society made him president.\n",
      "1) Translated to language: \n",
      " the doesn't will him with\n",
      "2) Translated from language: \n",
      " the dictionary stopped good workers\n",
      "3) Translated to language and back: \n",
      " my teacher made him true\n",
      "\n",
      "Original sentence: \n",
      " You don't get up as early as your sister.\n",
      "1) Translated to language: \n",
      " you be go up his as as is time\n",
      "2) Translated from language: \n",
      " you can make free more early than your teacher\n",
      "3) Translated to language and back: \n",
      " you can see no and much as your often\n",
      "\n",
      "Original sentence: \n",
      " You have a way with women.\n",
      "1) Translated to language: \n",
      " you have a good with time\n",
      "2) Translated from language: \n",
      " you have a friend last children\n",
      "3) Translated to language and back: \n",
      " you're have a bath every night\n",
      "\n",
      "Original sentence: \n",
      " I'm going shopping tomorrow.\n",
      "1) Translated to language: \n",
      " this has up with\n",
      "2) Translated from language: \n",
      " follow nothing dark early\n",
      "3) Translated to language and back: \n",
      " they isn't been down\n",
      "\n",
      "Original sentence: \n",
      " They went down to the country.\n",
      "1) Translated to language: \n",
      " tom are up to the time\n",
      "2) Translated from language: \n",
      " they looked down to the music\n",
      "3) Translated to language and back: \n",
      " they are down to the country\n",
      "\n",
      "Original sentence: \n",
      " They look happy today.\n",
      "1) Translated to language: \n",
      " tom me him with\n",
      "2) Translated from language: \n",
      " they left well today\n",
      "3) Translated to language and back: \n",
      " i'll came back early\n",
      "\n",
      "Original sentence: \n",
      " Have you heard the news yet?\n",
      "1) Translated to language: \n",
      " you you know the time time\n",
      "2) Translated from language: \n",
      " have you put the next down\n",
      "3) Translated to language and back: \n",
      " did you follow the earth open\n",
      "\n",
      "Original sentence: \n",
      " I go to bed about ten.\n",
      "1) Translated to language: \n",
      " i go to time her with\n",
      "2) Translated from language: \n",
      " i go to america went young\n",
      "3) Translated to language and back: \n",
      " i go to bed out here\n",
      "\n",
      "Original sentence: \n",
      " Yes, as far as I know.\n",
      "1) Translated to language: \n",
      " what his has that i was\n",
      "2) Translated from language: \n",
      " young than hard as i lived\n",
      "3) Translated to language and back: \n",
      " of and far as i know\n",
      "\n"
     ]
    }
   ],
   "source": [
    "for i in range(10):\n",
    "    sentence = np.random.choice(english_sentences)\n",
    "    print(\"Original sentence: \\n\", sentence)\n",
    "    print(\"1) Translated to language: \\n\", eng2lang_predict(sentence))\n",
    "    print(\"2) Translated from language: \\n\", lang2eng_predict(sentence))\n",
    "    print(\"3) Translated to language and back: \\n\", eng2eng_predict(sentence))\n",
    "    print()"
   ]
  },
  {
   "cell_type": "code",
   "execution_count": 25,
   "metadata": {},
   "outputs": [
    {
     "name": "stdout",
     "output_type": "stream",
     "text": [
      "1) Translated to language: \n",
      " he was not be going to do the time\n",
      "2) Translated from language: \n",
      " my parents not be able to do the work\n",
      "3) Translated to language and back: \n",
      " he will not be able to do the work\n"
     ]
    }
   ],
   "source": [
    "# Translate custom sentence\n",
    "sentence = \"He will not be able to do the work.\"\n",
    "\n",
    "print(\"1) Translated to language: \\n\", eng2lang_predict(sentence))\n",
    "print(\"2) Translated from language: \\n\", lang2eng_predict(sentence))\n",
    "print(\"3) Translated to language and back: \\n\", eng2eng_predict(sentence))"
   ]
  }
 ],
 "metadata": {
  "kernelspec": {
   "display_name": "envs",
   "language": "python",
   "name": "envs"
  },
  "language_info": {
   "codemirror_mode": {
    "name": "ipython",
    "version": 3
   },
   "file_extension": ".py",
   "mimetype": "text/x-python",
   "name": "python",
   "nbconvert_exporter": "python",
   "pygments_lexer": "ipython3",
   "version": "3.7.6"
  }
 },
 "nbformat": 4,
 "nbformat_minor": 4
}
